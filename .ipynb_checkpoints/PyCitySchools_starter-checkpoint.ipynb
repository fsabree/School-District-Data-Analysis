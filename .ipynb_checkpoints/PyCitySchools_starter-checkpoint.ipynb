{
 "cells": [
  {
   "cell_type": "markdown",
   "metadata": {},
   "source": [
    "### Note\n",
    "* Instructions have been included for each segment. You do not have to follow them exactly, but they are included to help you think through the steps."
   ]
  },
  {
   "cell_type": "code",
   "execution_count": null,
   "metadata": {},
   "outputs": [],
   "source": [
    "# Dependencies and Setup\n",
    "import pandas as pd\n",
    "\n",
    "# File to Load (Remember to Change These)\n",
    "school_data_to_load = \"Resources/schools_complete.csv\"\n",
    "student_data_to_load = \"Resources/students_complete.csv\"\n",
    "\n",
    "# Read School and Student Data File and store into Pandas Data Frames\n",
    "school_data = pd.read_csv(school_data_to_load)\n",
    "student_data = pd.read_csv(student_data_to_load)\n",
    "\n",
    "# Combine the data into a single dataset\n",
    "school_data_complete = pd.merge(student_data, school_data, how=\"left\", on=[\"school_name\", \"school_name\"])\n",
    "\n",
    "school_data_complete.head()"
   ]
  },
  {
   "cell_type": "markdown",
   "metadata": {},
   "source": [
    "## District Summary\n",
    "\n",
    "* Calculate the total number of schools\n",
    "\n",
    "* Calculate the total number of students\n",
    "\n",
    "* Calculate the total budget\n",
    "\n",
    "* Calculate the average math score \n",
    "\n",
    "* Calculate the average reading score\n",
    "\n",
    "* Calculate the overall passing rate (overall average score), i.e. (avg. math score + avg. reading score)/2\n",
    "\n",
    "* Calculate the percentage of students with a passing math score (70 or greater)\n",
    "\n",
    "* Calculate the percentage of students with a passing reading score (70 or greater)\n",
    "\n",
    "* Create a dataframe to hold the above results\n",
    "\n",
    "* Optional: give the displayed data cleaner formatting"
   ]
  },
  {
   "cell_type": "code",
   "execution_count": null,
   "metadata": {},
   "outputs": [],
   "source": [
    "#First do calculations\n",
    "total_student_count = len(school_data_complete[\"student_name\"])\n",
    "\n",
    "#Calculate the total number of schools\n",
    "school_count = len(school_data_complete[\"school_name\"].unique())\n",
    "\n",
    "#Calculate the total number of students\n",
    "student_count = len(school_data_complete[\"student_name\"].unique())\n",
    "\n",
    "#Calculate the total budget\n",
    "total_budget = sum(school_data_complete['budget'])\n",
    "\n",
    "#Calculate the average math score \n",
    "average_math_score = school_data_complete['math_score'].mean()\n",
    "\n",
    "#Calculate the average reading score\n",
    "average_reading_score = school_data_complete['reading_score'].mean()\n",
    "\n",
    "#Calculate the overall passing rate (overall average score), i.e. (avg. math score + avg. reading score)/2\n",
    "\n",
    "overall_passing_rate = (average_math_score + average_reading_score)/2\n",
    "\n",
    "#Calculate the percentage of students with a passing math score (70 or greater)\n",
    "\n",
    "passing_math_scores = school_data_complete.loc[school_data_complete['math_score'] >= 70].count()\n",
    "\n",
    "percent_passing_math_score = (passing_math_scores/total_student_count)*100\n",
    "\n",
    "#Calculate the percentage of students with a passing reading score (70 or greater)\n",
    "\n",
    "passing_reading_scores = school_data_complete.loc[school_data_complete['reading_score']>= 70].count()\n",
    "\n",
    "percent_passing_reading_score = (passing_reading_scores/total_student_count)*100\n",
    "\n"
   ]
  },
  {
   "cell_type": "code",
   "execution_count": null,
   "metadata": {},
   "outputs": [],
   "source": [
    "#Create a dataframe to hold the above results\n",
    "\n",
    "district_summary = pd.DataFrame({\"Total Schools\": [school_count],\n",
    "                              \"Total Students\": [student_count],\n",
    "                              \"Total Budget\": [total_budget],\n",
    "                              \"Average Math Score\": [average_math_score],\n",
    "                              \"Average Reading Score\": [average_reading_score],\n",
    "                              \"% Passing Math\": [percent_passing_math_score],\n",
    "                              \"% Passing Reading\": [percent_passing_reading_score],\n",
    "                              \"% Overall Passing Rate\": [overall_passing_rate]})\n",
    "                                 \n",
    "district_summary\n"
   ]
  },
  {
   "cell_type": "code",
   "execution_count": null,
   "metadata": {},
   "outputs": [],
   "source": [
    "#Format displayed data\n",
    "\n",
    "district_summary[\"Total Schools\"]= district_summary[\"Total Schools\"]\n",
    "district_summary[\"Total Students\"] = district_summary[\"Total Students\"].map(\"{:,}\".format)\n",
    "district_summary[\"Total Budget\"] = district_summary[\"Total Budget\"].map(\"${:,.2f}\".format)\n",
    "district_summary[\"Average Math Score\"]= district_summary[\"Average Math Score\"]\n",
    "district_summary[\"Average Reading Score\"] = district_summary[\"Average Reading Score\"]\n",
    "district_summary[\"% Passing Math\"] = district_summary[\"% Passing Math\"]\n",
    "district_summary[\"% Passing Reading\"]= district_summary[\"% Passing Reading\"]\n",
    "district_summary[\"% Overall Passing Rate\"] = district_summary[\"% Overall Passing Rate\"].map(\"{:.2f}%\".format)\n",
    "                                 \n",
    "district_summary"
   ]
  },
  {
   "cell_type": "markdown",
   "metadata": {},
   "source": [
    "## School Summary"
   ]
  },
  {
   "cell_type": "markdown",
   "metadata": {},
   "source": [
    "* Create an overview table that summarizes key metrics about each school, including:\n",
    "  * School Name\n",
    "  * School Type\n",
    "  * Total Students\n",
    "  * Total School Budget\n",
    "  * Per Student Budget\n",
    "  * Average Math Score\n",
    "  * Average Reading Score\n",
    "  * % Passing Math\n",
    "  * % Passing Reading\n",
    "  * Overall Passing Rate (Average of the above two)\n",
    "  \n",
    "* Create a dataframe to hold the above results"
   ]
  },
  {
   "cell_type": "code",
   "execution_count": null,
   "metadata": {},
   "outputs": [],
   "source": [
    "school_summary_data = school_data_complete.groupby(['school_name','type'])\n",
    "school_summary_data.count().head(10)"
   ]
  },
  {
   "cell_type": "code",
   "execution_count": null,
   "metadata": {},
   "outputs": [],
   "source": [
    "#Calculate the total number of students\n",
    "school_student_count = school_summary_data[\"Student ID\"].count()\n",
    "\n",
    "#Calculate the total budget\n",
    "school_total_budget= school_summary_data['budget'].sum()\n",
    "\n",
    "                           \n",
    "#Calculate the budget per school\n",
    "                           \n",
    "per_student_budget = school_total_budget/school_summary_data['size'].sum()                     \n",
    "\n",
    "#Calculate the average math score \n",
    "school_average_math_score = school_summary_data['math_score'].mean()\n",
    "\n",
    "#Calculate the average reading score\n",
    "school_average_reading_score = school_summary_data['reading_score'].mean()\n",
    "\n",
    "#Calculate the overall passing rate (overall average score), i.e. (avg. math score + avg. reading score)/2\n",
    "\n",
    "school_overall_passing_rate = (school_average_math_score + school_average_reading_score)/2\n",
    "\n",
    "#Calculate the percentage of students with a passing math score (70 or greater)\n",
    "#Using the loc function to get a count of  math scores over 70 grouped by school and type.\n",
    "\n",
    "passing_math_scores = school_data_complete.loc[school_data_complete['math_score'] >= 70].groupby(['school_name','type'])['math_score'].count()\n",
    "\n",
    "percent_passing_math_score = (passing_math_scores/school_student_count)*100\n",
    "\n",
    "#Calculate the percentage of students with a passing reading score (70 or greater)\n",
    "#Using the loc function to get a count of  math scores over 70 grouped by school and type.\n",
    "passing_reading_scores =school_data_complete.loc[school_data_complete['reading_score'] >= 70].groupby(['school_name','type'])['reading_score'].count()\n",
    "\n",
    "percent_passing_reading_score = (passing_reading_scores/school_student_count)*100\n",
    "\n",
    "\n",
    "\n",
    "\n"
   ]
  },
  {
   "cell_type": "code",
   "execution_count": null,
   "metadata": {
    "scrolled": true
   },
   "outputs": [],
   "source": [
    "#Create dataframe to story the school summary values.  \n",
    "\n",
    "school_summary = pd.DataFrame({\n",
    "                              \"Total Students\": school_student_count,\n",
    "                              \"Total School Budget\": school_total_budget,\n",
    "                              \"Per Student Budget\": per_student_budget,\n",
    "                              \"Average Math Score\": school_average_math_score,\n",
    "                              \"Average Reading Score\": school_average_reading_score,\n",
    "                              \"% Passing Math\": percent_passing_math_score,\n",
    "                              \"% Passing Reading\":percent_passing_reading_score,\n",
    "                              \"% Overall Passing Rate\": school_overall_passing_rate})\n",
    "                                 \n",
    "school_summary\n",
    "\n"
   ]
  },
  {
   "cell_type": "code",
   "execution_count": null,
   "metadata": {},
   "outputs": [],
   "source": [
    "#Format displayed data\n",
    "\n",
    "school_summary[\"Total Students\"] = school_summary[\"Total Students\"].map(\"{:,}\".format)\n",
    "school_summary[\"Total School Budget\"] = school_summary[\"Total School Budget\"].map(\"${:,.2f}\".format)\n",
    "school_summary[\"Per Student Budget\"] = school_summary[\"Per Student Budget\"].map(\"${:,.2f}\".format)\n",
    "school_summary[\"Average Math Score\"] = school_summary[\"Average Math Score\"]\n",
    "school_summary[\"Average Reading Score\"] = school_summary[\"Average Reading Score\"]\n",
    "school_summary[\"% Passing Math\"] = school_summary[\"% Passing Math\"].map(\"{:.2f}%\".format)\n",
    "school_summary[\"% Passing Reading\"] = school_summary[\"% Passing Reading\"].map(\"{:.2f}%\".format)\n",
    "school_summary[\"% Overall Passing Rate\"] = school_summary[\"% Overall Passing Rate\"].map(\"{:.2f}%\".format)\n",
    "                                 \n",
    "school_summary"
   ]
  },
  {
   "cell_type": "markdown",
   "metadata": {},
   "source": [
    "## Top Performing Schools (By Passing Rate)"
   ]
  },
  {
   "cell_type": "markdown",
   "metadata": {},
   "source": [
    "* Sort and display the top five schools in overall passing rate"
   ]
  },
  {
   "cell_type": "code",
   "execution_count": null,
   "metadata": {},
   "outputs": [],
   "source": [
    "#Find the top performing schools by the percent overall passing rate\n",
    "# Sort the school summary data descending and get the top five\n",
    "top_performing_schools = school_summary.sort_values(\"% Overall Passing Rate\", ascending=False)\n",
    "top_performing_schools.head()"
   ]
  },
  {
   "cell_type": "markdown",
   "metadata": {},
   "source": [
    "## Bottom Performing Schools (By Passing Rate)"
   ]
  },
  {
   "cell_type": "code",
   "execution_count": null,
   "metadata": {},
   "outputs": [],
   "source": [
    "#Find the bottom performing schools by the percent overall passing rate\n",
    "# Sort the school summary data ascending and get the top five\n",
    "bottom_performing_schools = school_summary.sort_values(\"% Overall Passing Rate\")\n",
    "bottom_performing_schools.head()"
   ]
  },
  {
   "cell_type": "markdown",
   "metadata": {
    "collapsed": true
   },
   "source": [
    "## Math Scores by Grade"
   ]
  },
  {
   "cell_type": "markdown",
   "metadata": {},
   "source": [
    " Create a table that lists the average Math Score for students of each grade level (9th, 10th, 11th, 12th) at each school.\n",
    "\n",
    "  * Create a pandas series for each grade. Hint: use a conditional statement.\n",
    "  \n",
    "  * Group each series by school\n",
    "  \n",
    "  * Combine the series into a dataframe\n",
    "  \n",
    "  * Optional: give the displayed data cleaner formatting"
   ]
  },
  {
   "cell_type": "code",
   "execution_count": null,
   "metadata": {},
   "outputs": [],
   "source": [
    "#Create a series with school, grades and math scores\n",
    "\n",
    "math_reading_scores = school_data_complete.loc[:, [\"school_name\", \"grade\", \"math_score\",\"reading_score\"]]\n",
    "math_reading_scores\n",
    "math_reading_scores.head()"
   ]
  },
  {
   "cell_type": "code",
   "execution_count": null,
   "metadata": {},
   "outputs": [],
   "source": [
    "#Get the average math score by grade\n",
    "\n",
    "ninth_grade_score = math_reading_scores.loc[math_reading_scores[\"grade\"]== \"9th\"].groupby(['school_name'])['math_score'].mean()\n",
    "tenth_grade_score = math_reading_scores.loc[math_reading_scores[\"grade\"]=='10th'].groupby(['school_name'])['math_score'].mean()\n",
    "eleventh_grade_score = math_reading_scores.loc[math_reading_scores[\"grade\"]=='11th'].groupby(['school_name'])['math_score'].mean()\n",
    "twelfth_grade_score = math_reading_scores.loc[math_reading_scores[\"grade\"]=='12th'].groupby(['school_name'])['math_score'].mean()\n",
    "\n"
   ]
  },
  {
   "cell_type": "code",
   "execution_count": null,
   "metadata": {},
   "outputs": [],
   "source": [
    "#Create dataframe with 9th,10th,11th,12th math grade scores\n",
    "\n",
    "math_scores_by_grade = pd.DataFrame({\n",
    "                              \"9th\": ninth_grade_score,\n",
    "                              \"10th\": tenth_grade_score,\n",
    "                              \"11th\": eleventh_grade_score,\n",
    "                              \"12th\": twelfth_grade_score,\n",
    "                              })\n",
    "                                 \n",
    "math_scores_by_grade"
   ]
  },
  {
   "cell_type": "markdown",
   "metadata": {},
   "source": [
    "## Reading Score by Grade "
   ]
  },
  {
   "cell_type": "markdown",
   "metadata": {},
   "source": [
    "* Perform the same operations as above for reading scores"
   ]
  },
  {
   "cell_type": "code",
   "execution_count": null,
   "metadata": {},
   "outputs": [],
   "source": [
    "#Get the average math score by grade\n",
    "ninth_grade_score = math_reading_scores.loc[math_reading_scores[\"grade\"]== \"9th\"].groupby(['school_name'])['reading_score'].mean()\n",
    "tenth_grade_score = math_reading_scores.loc[math_reading_scores[\"grade\"]=='10th'].groupby(['school_name'])['reading_score'].mean()\n",
    "eleventh_grade_score = math_reading_scores.loc[math_reading_scores[\"grade\"]=='11th'].groupby(['school_name'])['reading_score'].mean()\n",
    "twelfth_grade_score = math_reading_scores.loc[math_reading_scores[\"grade\"]=='12th'].groupby(['school_name'])['reading_score'].mean()\n",
    "\n"
   ]
  },
  {
   "cell_type": "code",
   "execution_count": null,
   "metadata": {},
   "outputs": [],
   "source": [
    "#Create dataframe with 9th,10th,11th,12th reading scores\n",
    "\n",
    "reading_scores_by_grade = pd.DataFrame({\n",
    "                              \"9th\": ninth_grade_score,\n",
    "                              \"10th\": tenth_grade_score,\n",
    "                              \"11th\": eleventh_grade_score,\n",
    "                              \"12th\": twelfth_grade_score,\n",
    "                              })\n",
    "                                 \n",
    "reading_scores_by_grade"
   ]
  },
  {
   "cell_type": "markdown",
   "metadata": {},
   "source": [
    "## Scores by School Spending"
   ]
  },
  {
   "cell_type": "markdown",
   "metadata": {},
   "source": [
    "* Create a table that breaks down school performances based on average Spending Ranges (Per Student). Use 4 reasonable bins to group school spending. Include in the table each of the following:\n",
    "  * Average Math Score\n",
    "  * Average Reading Score\n",
    "  * % Passing Math\n",
    "  * % Passing Reading\n",
    "  * Overall Passing Rate (Average of the above two)"
   ]
  },
  {
   "cell_type": "code",
   "execution_count": null,
   "metadata": {},
   "outputs": [],
   "source": [
    "#Scores by School Spending\n",
    "\n",
    "scores_by_school = school_summary.loc[:,[\"Per Student Budget\",\"Average Math Score\",\"Average Reading Score\",\"% Passing Math\",\"% Passing Reading\",\n",
    "\"% Overall Passing Rate\"]]\n",
    "                                                                   \n",
    "scores_by_school.head()"
   ]
  },
  {
   "cell_type": "code",
   "execution_count": null,
   "metadata": {},
   "outputs": [],
   "source": [
    "#Bins for student spending budget\n",
    "\n",
    "spending_bins = [0, 585, 615, 645, 675]\n",
    "group_names = [\"<$585\", \"$585-615\", \"$615-645\", \"$645-675\"]"
   ]
  },
  {
   "cell_type": "code",
   "execution_count": null,
   "metadata": {},
   "outputs": [],
   "source": [
    "scores_by_school[\"Spending Ranges (Per Student)\"] = pd.cut(school_summary[\"Per Student Budget\"], spending_bins, labels=group_names)\n",
    "scores_by_school.head()"
   ]
  },
  {
   "cell_type": "code",
   "execution_count": null,
   "metadata": {},
   "outputs": [],
   "source": [
    "# Create a GroupBy object based upon \"Spending Ranges (Per Student)\"\n",
    "scores_grouped = scores_by_school.groupby(\"Spending Ranges (Per Student)\")\n",
    "\n",
    "scores_by_school.head()"
   ]
  },
  {
   "cell_type": "code",
   "execution_count": null,
   "metadata": {},
   "outputs": [],
   "source": [
    "scores_grouped = scores_by_school.set_index(\"Spending Ranges (Per Student)\")\n",
    "scores_grouped.head()"
   ]
  },
  {
   "cell_type": "markdown",
   "metadata": {},
   "source": [
    "## Scores by School Size"
   ]
  },
  {
   "cell_type": "markdown",
   "metadata": {},
   "source": [
    "* Perform the same operations as above, based on school size."
   ]
  },
  {
   "cell_type": "code",
   "execution_count": null,
   "metadata": {},
   "outputs": [],
   "source": [
    "\n",
    "scores_by_size = school_summary_data[[\"school_name\",\"Student ID\",\"student_name\",\"math_score\",\"reading_score\",\"size\",\n",
    "\"budget\"]]\n",
    "                                                                   \n",
    "scores_by_size.head()"
   ]
  },
  {
   "cell_type": "code",
   "execution_count": null,
   "metadata": {},
   "outputs": [],
   "source": [
    "# Sample bins. Feel free to create your own bins.\n",
    "size_bins = [0, 1000, 2000, 5000]\n",
    "group_names = [\"Small (<1000)\", \"Medium (1000-2000)\", \"Large (2000-5000)\"]"
   ]
  },
  {
   "cell_type": "code",
   "execution_count": null,
   "metadata": {},
   "outputs": [],
   "source": [
    "#scores_by_size[\"School Size\"] = pd.cut(school_summary_data[\"size\"], size_bins, labels=group_names)\n",
    "pd.cut(school_summary_data[\"size\"], size_bins, labels=group_names).head()\n",
    "#scores_by_size.head()"
   ]
  },
  {
   "cell_type": "code",
   "execution_count": null,
   "metadata": {},
   "outputs": [],
   "source": [
    "# Create a GroupBy object based upon \"School Size\"\n",
    "school_group = scores_by_size.groupby(\"School Size\")\n",
    "\n",
    "percent_pass_math = (scores_by_size.loc[scores_by_school['math_score']>= 70].groupby(['School Size'])['math_score'].count()/scores_by_size[\"Student ID\"].count())*100\n",
    "\n",
    "percent_pass_reading = scores_by_size.loc[scores_by_school['reading_score']>= 70].groupby(['School Size'])['reading_score'].count()/len(scores_by_size[\"student_name\"])*100\n",
    "\n",
    "overall_passing_rate = school_group['math_score'].mean() + school_group['reading_score'].mean()/2\n"
   ]
  },
  {
   "cell_type": "code",
   "execution_count": null,
   "metadata": {},
   "outputs": [],
   "source": [
    "\n",
    "\n",
    "school_group = pd.DataFrame({\"Average Math Score\":school_group['math_score'].mean(),\n",
    "                             \"Average Reading Score\":school_group['reading_score'].mean(),\n",
    "                             \"%Passing Math\":percent_pass_math,\n",
    "                             \"% Passing Reading\": percent_pass_reading,\n",
    "                             \"% Overall Passing Rate\": overall_passing_rate\n",
    "                            })\n",
    "school_group"
   ]
  },
  {
   "cell_type": "code",
   "execution_count": null,
   "metadata": {
    "scrolled": true
   },
   "outputs": [],
   "source": []
  },
  {
   "cell_type": "markdown",
   "metadata": {},
   "source": [
    "## Scores by School Type"
   ]
  },
  {
   "cell_type": "markdown",
   "metadata": {},
   "source": [
    "* Perform the same operations as above, based on school type."
   ]
  },
  {
   "cell_type": "code",
   "execution_count": null,
   "metadata": {},
   "outputs": [],
   "source": []
  },
  {
   "cell_type": "code",
   "execution_count": null,
   "metadata": {},
   "outputs": [],
   "source": [
    "# Create a GroupBy object based upon \"School Size\"\n",
    "school_type_group = scores_by_school.groupby(\"type\")\n",
    "\n",
    "percent_pass_math = (scores_by_school.loc[scores_by_school['math_score']>= 70].groupby(['type'])['math_score'].count()/scores_by_school[\"Student ID\"].count())*100\n",
    "\n",
    "percent_pass_reading = scores_by_school.loc[scores_by_school['reading_score']>= 70].groupby(['type'])['reading_score'].count()/len(scores_by_school[\"student_name\"])*100\n",
    "\n",
    "overall_passing_rate = school_group['math_score'].mean() + school_group['reading_score'].mean()/2\n"
   ]
  },
  {
   "cell_type": "code",
   "execution_count": null,
   "metadata": {},
   "outputs": [],
   "source": [
    "school__type_group = pd.DataFrame({\"Average Math Score\":school_type_group['math_score'].mean(),\n",
    "                             \"Average Reading Score\":school_type_group['reading_score'].mean(),\n",
    "                             \"%Passing Math\":percent_pass_math,\n",
    "                             \"% Passing Reading\": percent_pass_reading,\n",
    "                             \"% Overall Passing Rate\": overall_passing_rate\n",
    "                            })\n",
    "school_type_group"
   ]
  },
  {
   "cell_type": "code",
   "execution_count": null,
   "metadata": {},
   "outputs": [],
   "source": []
  }
 ],
 "metadata": {
  "anaconda-cloud": {},
  "kernel_info": {
   "name": "python3"
  },
  "kernelspec": {
   "display_name": "Python 3",
   "language": "python",
   "name": "python3"
  },
  "language_info": {
   "codemirror_mode": {
    "name": "ipython",
    "version": 3
   },
   "file_extension": ".py",
   "mimetype": "text/x-python",
   "name": "python",
   "nbconvert_exporter": "python",
   "pygments_lexer": "ipython3",
   "version": "3.7.4"
  },
  "latex_envs": {
   "LaTeX_envs_menu_present": true,
   "autoclose": false,
   "autocomplete": true,
   "bibliofile": "biblio.bib",
   "cite_by": "apalike",
   "current_citInitial": 1,
   "eqLabelWithNumbers": true,
   "eqNumInitial": 1,
   "hotkeys": {
    "equation": "Ctrl-E",
    "itemize": "Ctrl-I"
   },
   "labels_anchors": false,
   "latex_user_defs": false,
   "report_style_numbering": false,
   "user_envs_cfg": false
  },
  "nteract": {
   "version": "0.8.4"
  }
 },
 "nbformat": 4,
 "nbformat_minor": 1
}
